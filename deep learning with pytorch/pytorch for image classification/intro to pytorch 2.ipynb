{
 "cells": [
  {
   "cell_type": "code",
   "execution_count": 116,
   "metadata": {},
   "outputs": [],
   "source": [
    "import torch.nn as nn \n",
    "#create a network class to reuse\n",
    "class Net( nn.Module):\n",
    "    def __init__(self):\n",
    "        super(Net, self).__init__()\n",
    "        self.fc1 = nn.Linear(9,10)\n",
    "        self.fc2 = nn.Linear(16,8)\n",
    "        self.fc3 = nn.Linear(8,1)\n",
    "\n",
    "    def forward(self,x):\n",
    "        x=nn.functional.relu(self.fc1(x))\n",
    "        x=nn.functional.relu(self.fc2(x))\n",
    "        x=nn.functional.relu(self.fc3(x))\n",
    "        return x\n",
    "    \n",
    "net = Net()\n"
   ]
  },
  {
   "cell_type": "code",
   "execution_count": 117,
   "metadata": {},
   "outputs": [],
   "source": [
    "from torch.utils.data import Dataset\n",
    "import pandas as pd\n",
    "class WaterDataset(Dataset):\n",
    "    def __init__(self, csv_path):\n",
    "        super().__init__()\n",
    "        # Load data to pandas DataFrame\n",
    "        df = pd.read_csv(csv_path)\n",
    "        # Convert data to a NumPy array and assign to self.data\n",
    "        self.data = df.to_numpy()\n",
    "        \n",
    "    # Implement __len__ to return the number of data samples\n",
    "    def __len__(self):\n",
    "        return len(self.data)\n",
    "    \n",
    "    def __getitem__(self, idx):\n",
    "        features = self.data[idx, :-1]\n",
    "        # Assign last data column to label\n",
    "        label = self.data[idx,-1]\n",
    "        return features, label\n",
    "    \n",
    "\n",
    "dataset = WaterDataset('./data.csv')"
   ]
  },
  {
   "cell_type": "code",
   "execution_count": 118,
   "metadata": {},
   "outputs": [
    {
     "name": "stdout",
     "output_type": "stream",
     "text": [
      "tensor([[1, 1],\n",
      "        [1, 1]]) tensor([1, 1])\n"
     ]
    }
   ],
   "source": [
    "from torch.utils.data import DataLoader\n",
    "# Create a DataLoader based on dataset_train\n",
    "dataloader_train = DataLoader(\n",
    "    dataset,\n",
    "    batch_size=2,\n",
    "    shuffle=True,\n",
    ")\n",
    "\n",
    "# Get a batch of features and labels\n",
    "features, labels = next(iter(dataloader_train))\n",
    "print(features, labels)"
   ]
  },
  {
   "cell_type": "code",
   "execution_count": 119,
   "metadata": {},
   "outputs": [],
   "source": [
    "import torch.optim as optim\n",
    "optimizer = optim.Adagrad(net.parameters(),lr=0.01)# it addapts the lr\n",
    "# but it may decrease the lr too fast \n",
    "optimizer2 = optim.RMSprop(net.parameters(),lr=0.01)# updates the lr based on the previous gradient\n",
    "optimizer3 = optim.Adam(net.parameters(),lr=0.01) # RMSprop + gradient momentum"
   ]
  },
  {
   "cell_type": "markdown",
   "metadata": {},
   "source": [
    "- vanishing gradients : when gradeints get really small and prevent model from training\n",
    "- exploding gradients : when gradients gets bigger so training diverges"
   ]
  },
  {
   "cell_type": "markdown",
   "metadata": {},
   "source": [
    "a way to deal with this is initialize the weights in a way that:\n",
    "- variance of layer inputs = var outputs\n",
    "- variance of gradients the same before and after a layer "
   ]
  },
  {
   "cell_type": "code",
   "execution_count": 120,
   "metadata": {},
   "outputs": [],
   "source": [
    "import torch.nn as nn \n",
    "import torch.nn.init as init\n",
    "#create a network class to reuse\n",
    "class Net( nn.Module):\n",
    "    def __init__(self):\n",
    "        super(Net, self).__init__()\n",
    "        self.fc1 = nn.Linear(9,10)\n",
    "        self.fc2 = nn.Linear(16,8)\n",
    "        self.fc3 = nn.Linear(8,1)\n",
    "\n",
    "        init.kaiming_uniform_(self.fc1.weight)\n",
    "        init.kaiming_uniform_(self.fc2.weight)\n",
    "        init.kaiming_uniform_(self.fc3.weight,\n",
    "                            nonlinearity=\"sigmoid\"\n",
    "                            )\n",
    "\n",
    "    def forward(self,x):\n",
    "        x=nn.functional.relu(self.fc1(x))\n",
    "        x=nn.functional.relu(self.fc2(x))\n",
    "        x=nn.functional.sigmoid(self.fc3(x))\n",
    "        # nn.functional.elu helps againts dying neurons\n",
    "        return x\n",
    "    \n",
    "net = Net() \n"
   ]
  },
  {
   "cell_type": "markdown",
   "metadata": {},
   "source": [
    "batch normalisation : normalizing the output of an activation layer with mean and std of a batch"
   ]
  },
  {
   "cell_type": "code",
   "execution_count": 121,
   "metadata": {},
   "outputs": [],
   "source": [
    "class Net( nn.Module):\n",
    "    def __init__(self):\n",
    "        super(Net, self).__init__()\n",
    "        self.fc1 = nn.Linear(9,10)\n",
    "        self.bn1 = nn.BatchNorm1d(10)\n",
    "        self.fc2 = nn.Linear(16,8)\n",
    "        self.fc3 = nn.Linear(8,1)\n",
    "\n",
    "        init.kaiming_uniform_(self.fc1.weight)\n",
    "        init.kaiming_uniform_(self.fc2.weight)\n",
    "        init.kaiming_uniform_(self.fc3.weight,\n",
    "                            nonlinearity=\"sigmoid\"\n",
    "                            )\n",
    "        def forward(self,x):\n",
    "            x = self.fc1(x)\n",
    "            x=nn.functional.bn1(x)\n",
    "            x=nn.functional.relu(x)\n",
    "            # ...\n",
    "            return x\n",
    "        "
   ]
  },
  {
   "cell_type": "markdown",
   "metadata": {},
   "source": [
    "# Images"
   ]
  },
  {
   "cell_type": "code",
   "execution_count": 122,
   "metadata": {},
   "outputs": [],
   "source": [
    "from torchvision.datasets import ImageFolder\n",
    "from torchvision import transforms\n",
    "train_trainsforms = transforms.Compose([\n",
    "    transforms.RandomHorizontalFlip(),\n",
    "    # transforms.RandomRotation(45),\n",
    "    # transforms.RandomAutocontrast(),\n",
    "    transforms.ToTensor(),\n",
    "    transforms.Resize((128,128))\n",
    "])\n",
    "dataset_train = ImageFolder(\n",
    "    \"./clouds/clouds/clouds_train\",\n",
    "    transform=train_trainsforms\n",
    ")"
   ]
  },
  {
   "cell_type": "code",
   "execution_count": 123,
   "metadata": {},
   "outputs": [
    {
     "name": "stdout",
     "output_type": "stream",
     "text": [
      "torch.Size([1, 3, 128, 128])\n"
     ]
    }
   ],
   "source": [
    "dataloader_train = DataLoader(\n",
    "    dataset_train,\n",
    "    shuffle=True,batch_size=1\n",
    ")\n",
    "\n",
    "image,label =next(iter(dataloader_train))\n",
    "print(image.shape)"
   ]
  },
  {
   "cell_type": "markdown",
   "metadata": {},
   "source": [
    "1 for batch size \n",
    "\n",
    "3 for the colors \n",
    "\n",
    "128 ,128 for height and weight\n"
   ]
  },
  {
   "cell_type": "code",
   "execution_count": 124,
   "metadata": {},
   "outputs": [
    {
     "name": "stdout",
     "output_type": "stream",
     "text": [
      "torch.Size([128, 128, 3])\n"
     ]
    }
   ],
   "source": [
    "# to print it \n",
    "image=image.squeeze().permute(1,2,0)\n",
    "print(image.shape)"
   ]
  },
  {
   "cell_type": "code",
   "execution_count": 125,
   "metadata": {},
   "outputs": [
    {
     "data": {
      "image/png": "[encoded data removed]",
      "text/plain": [
       "<Figure size 640x480 with 1 Axes>"
      ]
     },
     "metadata": {},
     "output_type": "display_data"
    }
   ],
   "source": [
    "import os\n",
    "\n",
    "os.environ[\"KMP_DUPLICATE_LIB_OK\"] = \"TRUE\"\n",
    "import matplotlib.pyplot as plt \n",
    "plt.imshow(image)\n",
    "plt.show()"
   ]
  },
  {
   "cell_type": "code",
   "execution_count": 126,
   "metadata": {},
   "outputs": [
    {
     "name": "stdout",
     "output_type": "stream",
     "text": [
      "tensor([0])\n"
     ]
    }
   ],
   "source": [
    "print(label)"
   ]
  },
  {
   "cell_type": "markdown",
   "metadata": {},
   "source": [
    "in data augmentation we apply random tranformation to the images to get more data like rotation fliping ..\n",
    "\n",
    "makes the model more robust to changes and variations "
   ]
  },
  {
   "cell_type": "markdown",
   "metadata": {},
   "source": []
  },
  {
   "cell_type": "code",
   "execution_count": 127,
   "metadata": {},
   "outputs": [],
   "source": [
    "train_trainsforms=transforms.Compose([\n",
    "    transforms.RandomHorizontalFlip(),\n",
    "    transforms.RandomRotation(45),\n",
    "    transforms.RandomAutocontrast(),\n",
    "        transforms.ToTensor(),\n",
    "    transforms.Resize((128,128))\n",
    "])\n"
   ]
  },
  {
   "cell_type": "markdown",
   "metadata": {},
   "source": [
    "but we usually dont use linear layer because the number of parameters will explose \n",
    " - let say we have a 256*256 image if we put a layer of neuroons with 1000 that will be over 65M parameter\n",
    "\n",
    "so use filters instead or convolution layers\n",
    "\n",
    "a convolution is a the dot product betw input patch and a filter \n",
    "\n",
    "we often add padding of zeros to our patch to prevent loss, it ensures that the pixels at the border receive as much attention as those located elsewhere in the feature map.\n",
    "\n",
    "max polling : it's got by sliding non overlaping window and take max in that window\n",
    "\n",
    "Convolutional layers preserve spatial information between their inputs and outputs"
   ]
  },
  {
   "cell_type": "code",
   "execution_count": 128,
   "metadata": {},
   "outputs": [],
   "source": [
    "class Net(nn.Module):\n",
    "    def __init__(self, num_classes):                                                               \n",
    "        super().__init__() # image start with 3*64*64 our data \n",
    "        self.feature_extractor = nn.Sequential(\n",
    "        nn.Conv2d(3, 32, kernel_size=3, padding=1),#32*64*64\n",
    "        nn.ELU(),\n",
    "        nn.MaxPool2d(kernel_size=2),#32*32*32\n",
    "        nn.Conv2d(32, 64, kernel_size=3, padding=1),#64*32*32\n",
    "        nn.ELU(),\n",
    "        nn.MaxPool2d(kernel_size=2),#64*16*16\n",
    "        nn.Flatten(),#flattening the output to array of vals\n",
    "        )\n",
    "        self.classifier = nn.Linear(64*32*32, num_classes)\n",
    "\n",
    "\n",
    "    def forward(self, x):\n",
    "        x = self.feature_extractor(x)                                                             \n",
    "        x = self.classifier(x)\n",
    "        return x"
   ]
  },
  {
   "cell_type": "markdown",
   "metadata": {},
   "source": [
    "- data augmentation can sometimes impact the label for example flipping w vertically will make it M\n",
    "- chaging color of orange to yellow will make look like lemmon but label is still orange "
   ]
  },
  {
   "cell_type": "code",
   "execution_count": 129,
   "metadata": {},
   "outputs": [
    {
     "name": "stdout",
     "output_type": "stream",
     "text": [
      "epoch loss: 1.8877666560240827\n",
      "epoch loss: 1.4155219046019296\n",
      "epoch loss: 1.2732839752304248\n",
      "epoch loss: 1.1504163017570508\n",
      "epoch loss: 1.0094370390797849\n",
      "epoch loss: 0.8374237849505455\n",
      "epoch loss: 0.6404952674485319\n",
      "epoch loss: 0.5451160916380124\n",
      "epoch loss: 0.490984368296783\n",
      "epoch loss: 0.5121029884478103\n",
      "epoch loss: 0.23839521445037035\n",
      "epoch loss: 0.24649211549883462\n",
      "epoch loss: 0.14292570662161508\n"
     ]
    }
   ],
   "source": [
    "net = Net(num_classes=7)\n",
    "criterion = nn.CrossEntropyLoss()\n",
    "optimizer = optim.Adam(net.parameters(),lr=0.0005)\n",
    "for epoch in range(13):\n",
    "    epoch_loss = 0\n",
    "    for images,labels in dataloader_train:\n",
    "        optimizer.zero_grad()\n",
    "        outputs = net(images)\n",
    "        loss = criterion(outputs,labels)\n",
    "        loss.backward()\n",
    "        epoch_loss+=loss.item()\n",
    "        optimizer.step()\n",
    "    print(\"epoch loss:\",epoch_loss/len(dataloader_train))\n"
   ]
  },
  {
   "cell_type": "code",
   "execution_count": 130,
   "metadata": {},
   "outputs": [],
   "source": [
    "test_transforms = transforms.Compose([\n",
    "    # no data augmentation in test\n",
    "    transforms.ToTensor(),\n",
    "    transforms.Resize((128,128))\n",
    "])\n",
    "\n",
    "dataset_test = ImageFolder(\n",
    "    './clouds/clouds/clouds_test',\n",
    "    transform=test_transforms\n",
    ")\n",
    "dataloader_test= DataLoader(\n",
    "    dataset_test,\n",
    "    shuffle=True,batch_size=1\n",
    ")"
   ]
  },
  {
   "cell_type": "code",
   "execution_count": 131,
   "metadata": {},
   "outputs": [],
   "source": [
    "from torchmetrics import Precision,Recall\n",
    "import torch\n",
    "metric_precision = Precision(task=\"multiclass\",num_classes=7,average=\"macro\")\n",
    "metric_racall = Recall(task=\"multiclass\",num_classes=7,average=\"macro\")\n",
    "net.eval()\n",
    "with torch.no_grad():\n",
    "    for images,labels in dataloader_test:\n",
    "        outputs = net(images)\n",
    "        _,preds = torch.max(outputs,1)\n",
    "        metric_precision(preds,labels)\n",
    "        metric_racall(preds,labels)\n",
    "precistion = metric_precision.compute()\n",
    "recall = metric_racall.compute()"
   ]
  },
  {
   "cell_type": "code",
   "execution_count": 132,
   "metadata": {},
   "outputs": [
    {
     "name": "stdout",
     "output_type": "stream",
     "text": [
      "tensor(0.5970)\n"
     ]
    }
   ],
   "source": [
    "print(precistion)"
   ]
  },
  {
   "cell_type": "code",
   "execution_count": 133,
   "metadata": {},
   "outputs": [
    {
     "name": "stdout",
     "output_type": "stream",
     "text": [
      "tensor(0.6181)\n"
     ]
    }
   ],
   "source": [
    "print(recall)"
   ]
  },
  {
   "cell_type": "markdown",
   "metadata": {},
   "source": [
    "evaluating the metrics per class"
   ]
  },
  {
   "cell_type": "code",
   "execution_count": 134,
   "metadata": {},
   "outputs": [],
   "source": [
    "metric_racall = Recall(task=\"multiclass\",num_classes=7,average=None)\n",
    "net.eval()\n",
    "with torch.no_grad():\n",
    "    for images,labels in dataloader_test:\n",
    "        outputs = net(images)\n",
    "        _,preds = torch.max(outputs,1)\n",
    "        metric_precision(preds,labels)\n",
    "        metric_racall(preds,labels)\n",
    "precistion = metric_precision.compute()\n",
    "recall = metric_racall.compute()"
   ]
  },
  {
   "cell_type": "code",
   "execution_count": 135,
   "metadata": {},
   "outputs": [
    {
     "name": "stdout",
     "output_type": "stream",
     "text": [
      "tensor([0.3117, 0.9531, 0.8182, 0.5583, 0.4175, 1.0000, 0.2676])\n"
     ]
    }
   ],
   "source": [
    "print(recall)"
   ]
  },
  {
   "cell_type": "code",
   "execution_count": 136,
   "metadata": {},
   "outputs": [
    {
     "data": {
      "text/plain": [
       "{'cirriform clouds': 0.31168830394744873,\n",
       " 'clear sky': 0.953125,\n",
       " 'cumulonimbus clouds': 0.8181818127632141,\n",
       " 'cumulus clouds': 0.5583333373069763,\n",
       " 'high cumuliform clouds': 0.41747573018074036,\n",
       " 'stratiform clouds': 1.0,\n",
       " 'stratocumulus clouds': 0.26760563254356384}"
      ]
     },
     "execution_count": 136,
     "metadata": {},
     "output_type": "execute_result"
    }
   ],
   "source": [
    "{\n",
    "    k:recall[v].item() \n",
    "    for k,v in \n",
    "    dataset_test.class_to_idx.items()\n",
    "}"
   ]
  },
  {
   "cell_type": "code",
   "execution_count": null,
   "metadata": {},
   "outputs": [],
   "source": []
  }
 ],
 "metadata": {
  "kernelspec": {
   "display_name": "DM_ENV",
   "language": "python",
   "name": "python3"
  },
  "language_info": {
   "codemirror_mode": {
    "name": "ipython",
    "version": 3
   },
   "file_extension": ".py",
   "mimetype": "text/x-python",
   "name": "python",
   "nbconvert_exporter": "python",
   "pygments_lexer": "ipython3",
   "version": "3.11.5"
  }
 },
 "nbformat": 4,
 "nbformat_minor": 2
}
