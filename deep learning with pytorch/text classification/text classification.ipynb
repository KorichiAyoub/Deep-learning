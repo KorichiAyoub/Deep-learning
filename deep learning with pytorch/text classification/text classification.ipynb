{
 "cells": [
  {
   "cell_type": "code",
   "execution_count": 13,
   "metadata": {},
   "outputs": [
    {
     "data": {
      "text/plain": [
       "['i',\n",
       " 'am',\n",
       " 'ayoub',\n",
       " 'from',\n",
       " 'ensia',\n",
       " 'the',\n",
       " 'national',\n",
       " 'higher',\n",
       " 'shchool',\n",
       " 'of',\n",
       " 'ai',\n",
       " 'I',\n",
       " 'created',\n",
       " 'this',\n",
       " 'for',\n",
       " 'learning',\n",
       " 'purposes',\n",
       " 'and',\n",
       " 'help',\n",
       " 'students',\n",
       " 'when',\n",
       " 'doing',\n",
       " 'ai',\n",
       " 'tasks']"
      ]
     },
     "execution_count": 13,
     "metadata": {},
     "output_type": "execute_result"
    }
   ],
   "source": [
    "import re\n",
    "def tokenize(text):\n",
    "    # Split text into words using whitespace and punctuation as delimiters\n",
    "    words = re.findall(r'\\b\\w+\\b', text)\n",
    "    return words\n",
    "\n",
    "tokens = tokenize(\"i am ayoub, from ensia the national higher shchool of ai, I created this for learning purposes and help students when doing ai tasks\")\n",
    "tokens"
   ]
  },
  {
   "cell_type": "code",
   "execution_count": null,
   "metadata": {},
   "outputs": [],
   "source": [
    "# Import the necessary functions\n",
    "from torchtext.data.utils import get_tokenizer\n",
    "\n",
    "text = \"In the city of Dataville, a data analyst named Alex explores hidden insights within vast data. With determination, Alex uncovers patterns, cleanses the data, and unlocks innovation. Join this adventure to unleash the power of data-driven decisions.\"\n",
    "tokenizer = get_tokenizer(\"basic_english\")\n",
    "tokens = tokenizer(text)\n"
   ]
  },
  {
   "cell_type": "code",
   "execution_count": 14,
   "metadata": {},
   "outputs": [
    {
     "data": {
      "text/plain": [
       "{'a',\n",
       " 'about',\n",
       " 'above',\n",
       " 'after',\n",
       " 'again',\n",
       " 'against',\n",
       " 'ain',\n",
       " 'all',\n",
       " 'am',\n",
       " 'an',\n",
       " 'and',\n",
       " 'any',\n",
       " 'are',\n",
       " 'aren',\n",
       " \"aren't\",\n",
       " 'as',\n",
       " 'at',\n",
       " 'be',\n",
       " 'because',\n",
       " 'been',\n",
       " 'before',\n",
       " 'being',\n",
       " 'below',\n",
       " 'between',\n",
       " 'both',\n",
       " 'but',\n",
       " 'by',\n",
       " 'can',\n",
       " 'couldn',\n",
       " \"couldn't\",\n",
       " 'd',\n",
       " 'did',\n",
       " 'didn',\n",
       " \"didn't\",\n",
       " 'do',\n",
       " 'does',\n",
       " 'doesn',\n",
       " \"doesn't\",\n",
       " 'doing',\n",
       " 'don',\n",
       " \"don't\",\n",
       " 'down',\n",
       " 'during',\n",
       " 'each',\n",
       " 'few',\n",
       " 'for',\n",
       " 'from',\n",
       " 'further',\n",
       " 'had',\n",
       " 'hadn',\n",
       " \"hadn't\",\n",
       " 'has',\n",
       " 'hasn',\n",
       " \"hasn't\",\n",
       " 'have',\n",
       " 'haven',\n",
       " \"haven't\",\n",
       " 'having',\n",
       " 'he',\n",
       " 'her',\n",
       " 'here',\n",
       " 'hers',\n",
       " 'herself',\n",
       " 'him',\n",
       " 'himself',\n",
       " 'his',\n",
       " 'how',\n",
       " 'i',\n",
       " 'if',\n",
       " 'in',\n",
       " 'into',\n",
       " 'is',\n",
       " 'isn',\n",
       " \"isn't\",\n",
       " 'it',\n",
       " \"it's\",\n",
       " 'its',\n",
       " 'itself',\n",
       " 'just',\n",
       " 'll',\n",
       " 'm',\n",
       " 'ma',\n",
       " 'me',\n",
       " 'mightn',\n",
       " \"mightn't\",\n",
       " 'more',\n",
       " 'most',\n",
       " 'mustn',\n",
       " \"mustn't\",\n",
       " 'my',\n",
       " 'myself',\n",
       " 'needn',\n",
       " \"needn't\",\n",
       " 'no',\n",
       " 'nor',\n",
       " 'not',\n",
       " 'now',\n",
       " 'o',\n",
       " 'of',\n",
       " 'off',\n",
       " 'on',\n",
       " 'once',\n",
       " 'only',\n",
       " 'or',\n",
       " 'other',\n",
       " 'our',\n",
       " 'ours',\n",
       " 'ourselves',\n",
       " 'out',\n",
       " 'over',\n",
       " 'own',\n",
       " 're',\n",
       " 's',\n",
       " 'same',\n",
       " 'shan',\n",
       " \"shan't\",\n",
       " 'she',\n",
       " \"she's\",\n",
       " 'should',\n",
       " \"should've\",\n",
       " 'shouldn',\n",
       " \"shouldn't\",\n",
       " 'so',\n",
       " 'some',\n",
       " 'such',\n",
       " 't',\n",
       " 'than',\n",
       " 'that',\n",
       " \"that'll\",\n",
       " 'the',\n",
       " 'their',\n",
       " 'theirs',\n",
       " 'them',\n",
       " 'themselves',\n",
       " 'then',\n",
       " 'there',\n",
       " 'these',\n",
       " 'they',\n",
       " 'this',\n",
       " 'those',\n",
       " 'through',\n",
       " 'to',\n",
       " 'too',\n",
       " 'under',\n",
       " 'until',\n",
       " 'up',\n",
       " 've',\n",
       " 'very',\n",
       " 'was',\n",
       " 'wasn',\n",
       " \"wasn't\",\n",
       " 'we',\n",
       " 'were',\n",
       " 'weren',\n",
       " \"weren't\",\n",
       " 'what',\n",
       " 'when',\n",
       " 'where',\n",
       " 'which',\n",
       " 'while',\n",
       " 'who',\n",
       " 'whom',\n",
       " 'why',\n",
       " 'will',\n",
       " 'with',\n",
       " 'won',\n",
       " \"won't\",\n",
       " 'wouldn',\n",
       " \"wouldn't\",\n",
       " 'y',\n",
       " 'you',\n",
       " \"you'd\",\n",
       " \"you'll\",\n",
       " \"you're\",\n",
       " \"you've\",\n",
       " 'your',\n",
       " 'yours',\n",
       " 'yourself',\n",
       " 'yourselves'}"
      ]
     },
     "execution_count": 14,
     "metadata": {},
     "output_type": "execute_result"
    }
   ],
   "source": [
    "from nltk.corpus import stopwords\n",
    "stop_words = set(stopwords.words('english'))\n",
    "stop_words"
   ]
  },
  {
   "cell_type": "code",
   "execution_count": 15,
   "metadata": {},
   "outputs": [
    {
     "data": {
      "text/plain": [
       "['ayoub',\n",
       " 'ensia',\n",
       " 'national',\n",
       " 'higher',\n",
       " 'shchool',\n",
       " 'ai',\n",
       " 'created',\n",
       " 'learning',\n",
       " 'purposes',\n",
       " 'help',\n",
       " 'students',\n",
       " 'ai',\n",
       " 'tasks']"
      ]
     },
     "execution_count": 15,
     "metadata": {},
     "output_type": "execute_result"
    }
   ],
   "source": [
    "filtered_tokens = [token for token in tokens if token.lower() not in stop_words]\n",
    "filtered_tokens"
   ]
  },
  {
   "cell_type": "code",
   "execution_count": 16,
   "metadata": {},
   "outputs": [
    {
     "data": {
      "text/plain": [
       "['i',\n",
       " 'am',\n",
       " 'ayoub',\n",
       " 'from',\n",
       " 'ensia',\n",
       " 'the',\n",
       " 'nation',\n",
       " 'higher',\n",
       " 'shchool',\n",
       " 'of',\n",
       " 'ai',\n",
       " 'i',\n",
       " 'creat',\n",
       " 'thi',\n",
       " 'for',\n",
       " 'learn',\n",
       " 'purpos',\n",
       " 'and',\n",
       " 'help',\n",
       " 'student',\n",
       " 'when',\n",
       " 'do',\n",
       " 'ai',\n",
       " 'task']"
      ]
     },
     "execution_count": 16,
     "metadata": {},
     "output_type": "execute_result"
    }
   ],
   "source": [
    "# stemming \n",
    "from nltk.stem import PorterStemmer\n",
    "stemmer = PorterStemmer() # doesnt work for slangs like darija ...\n",
    "stemmed_tokens = [stemmer.stem(token) for token in tokens]\n",
    "stemmed_tokens"
   ]
  },
  {
   "cell_type": "code",
   "execution_count": 17,
   "metadata": {},
   "outputs": [
    {
     "data": {
      "text/plain": [
       "['i', 'ai', 'i', 'ai']"
      ]
     },
     "execution_count": 17,
     "metadata": {},
     "output_type": "execute_result"
    }
   ],
   "source": [
    "# remove rare words not always needed tho \n",
    "from nltk.probability import FreqDist\n",
    "freq_dist = FreqDist(stemmed_tokens)\n",
    "threshold = 2\n",
    "common_tokens = [token for token in stemmed_tokens if freq_dist[token]>= threshold]\n",
    "common_tokens"
   ]
  },
  {
   "cell_type": "markdown",
   "metadata": {},
   "source": [
    "# Encoding "
   ]
  },
  {
   "cell_type": "code",
   "execution_count": null,
   "metadata": {},
   "outputs": [],
   "source": [
    "import torch\n",
    "genres = ['Fiction','Non-fiction','Biography', 'Children','Mystery']\n",
    "\n",
    "# Define the size of the vocabulary\n",
    "vocab_size = len(genres)\n",
    "\n",
    "# Create one-hot vectors\n",
    "one_hot_vectors = torch.eye(vocab_size)\n",
    "\n",
    "# Create a dictionary mapping genres to their one-hot vectors\n",
    "one_hot_dict = {genre: one_hot_vectors[i] for i, genre in enumerate(genres)}\n",
    "\n",
    "for genre, vector in one_hot_dict.items():\n",
    "    print(f'{genre}: {vector.numpy()}')"
   ]
  },
  {
   "cell_type": "code",
   "execution_count": 21,
   "metadata": {},
   "outputs": [
    {
     "data": {
      "text/plain": [
       "array([[0.        , 0.        , 0.        , 0.        , 0.33721386,\n",
       "        0.        , 0.        , 0.33721386, 0.        , 0.        ,\n",
       "        0.        , 0.        , 0.        , 0.33721386, 0.        ,\n",
       "        0.        , 0.        , 0.        , 0.33721386, 0.        ,\n",
       "        0.33721386, 0.        , 0.        , 0.        , 0.        ,\n",
       "        0.        , 0.        , 0.        , 0.33721386, 0.33721386,\n",
       "        0.        , 0.        , 0.        , 0.        , 0.4516721 ,\n",
       "        0.        , 0.        , 0.        ],\n",
       "       [0.25451241, 0.31546157, 0.        , 0.31546157, 0.        ,\n",
       "        0.        , 0.        , 0.        , 0.        , 0.        ,\n",
       "        0.        , 0.        , 0.        , 0.        , 0.        ,\n",
       "        0.        , 0.        , 0.50902482, 0.        , 0.        ,\n",
       "        0.        , 0.        , 0.        , 0.        , 0.        ,\n",
       "        0.        , 0.        , 0.        , 0.        , 0.        ,\n",
       "        0.        , 0.31546157, 0.31546157, 0.31546157, 0.42253658,\n",
       "        0.        , 0.        , 0.        ],\n",
       "       [0.25573548, 0.        , 0.31697754, 0.        , 0.        ,\n",
       "        0.        , 0.        , 0.        , 0.        , 0.31697754,\n",
       "        0.        , 0.        , 0.        , 0.        , 0.31697754,\n",
       "        0.25573548, 0.        , 0.        , 0.        , 0.        ,\n",
       "        0.        , 0.        , 0.        , 0.31697754, 0.        ,\n",
       "        0.31697754, 0.25573548, 0.        , 0.        , 0.        ,\n",
       "        0.31697754, 0.        , 0.        , 0.        , 0.        ,\n",
       "        0.        , 0.31697754, 0.31697754],\n",
       "       [0.        , 0.        , 0.        , 0.        , 0.        ,\n",
       "        0.        , 0.35355339, 0.        , 0.        , 0.        ,\n",
       "        0.        , 0.35355339, 0.        , 0.        , 0.        ,\n",
       "        0.        , 0.35355339, 0.        , 0.        , 0.35355339,\n",
       "        0.        , 0.35355339, 0.35355339, 0.        , 0.        ,\n",
       "        0.        , 0.        , 0.35355339, 0.        , 0.        ,\n",
       "        0.        , 0.        , 0.        , 0.        , 0.        ,\n",
       "        0.35355339, 0.        , 0.        ],\n",
       "       [0.        , 0.        , 0.        , 0.        , 0.        ,\n",
       "        0.36757597, 0.        , 0.        , 0.36757597, 0.        ,\n",
       "        0.36757597, 0.        , 0.36757597, 0.        , 0.        ,\n",
       "        0.29655798, 0.        , 0.29655798, 0.        , 0.        ,\n",
       "        0.        , 0.        , 0.        , 0.        , 0.36757597,\n",
       "        0.        , 0.29655798, 0.        , 0.        , 0.        ,\n",
       "        0.        , 0.        , 0.        , 0.        , 0.24616991,\n",
       "        0.        , 0.        , 0.        ]])"
      ]
     },
     "execution_count": 21,
     "metadata": {},
     "output_type": "execute_result"
    }
   ],
   "source": [
    "from sklearn.feature_extraction.text import CountVectorizer,TfidfVectorizer\n",
    "\n",
    "CountVect = CountVectorizer()\n",
    "TfidfVect = TfidfVectorizer()\n",
    "corpus = [\n",
    "    \"The quick brown fox jumps over the lazy dog.\",\n",
    "    \"The sky is blue and the sun is shining brightly.\",\n",
    "    \"I enjoy reading books and listening to music in my free time.\",\n",
    "    \"Learning new things every day keeps life interesting.\",\n",
    "    \"Coffee is my favorite drink, especially in the morning.\"\n",
    "]\n",
    "\n",
    "bagOfwords = CountVect.fit_transform(corpus)\n",
    "vectorized_x = TfidfVect.fit_transform(corpus)\n",
    "print(CountVect.get_feature_names_out()[:5])\n",
    "print(bagOfwords.toarray()[0, :5])\n"
   ]
  },
  {
   "cell_type": "markdown",
   "metadata": {},
   "source": [
    "# Preprocessing Pipeline:"
   ]
  },
  {
   "cell_type": "markdown",
   "metadata": {},
   "source": [
    "## Helper functions "
   ]
  },
  {
   "cell_type": "code",
   "execution_count": 30,
   "metadata": {},
   "outputs": [],
   "source": [
    "from sklearn.feature_extraction.text import CountVectorizer\n",
    "import re\n",
    "from nltk.tokenize import word_tokenize\n",
    "from nltk.corpus import stopwords\n",
    "from nltk.stem import PorterStemmer\n",
    "from nltk.probability import FreqDist\n",
    "\n",
    "def encode_sentences(sentences):\n",
    "    print(\"Preprocessed sentences:\", sentences)\n",
    "    vectorizer = CountVectorizer()\n",
    "    X = vectorizer.fit_transform(sentences)\n",
    "    encoded_sentences = X.toarray()\n",
    "    return encoded_sentences, vectorizer\n",
    "\n",
    "def extract_sentences(data):\n",
    "    sentences = re.findall(r'[A-Z][^.!?]*[.!?]', data)\n",
    "    return sentences\n",
    "\n",
    "def preprocess_sentences(sentences):\n",
    "    stop_words = set(stopwords.words('english'))\n",
    "    stemmer = PorterStemmer()\n",
    "    processed_sentences = []\n",
    "    for sentence in sentences:\n",
    "        sentence = sentence.lower()\n",
    "        tokens = word_tokenize(sentence)\n",
    "        tokens = [token for token in tokens if token.lower() not in stop_words]\n",
    "        tokens = [stemmer.stem(token) for token in tokens]\n",
    "        # freq_dist = FreqDist(tokens)\n",
    "        # threshold = 2\n",
    "        # tokens = [token for token in tokens if freq_dist[token] > threshold]\n",
    "        processed_sentences.append(' '.join(tokens))\n",
    "    return processed_sentences\n"
   ]
  },
  {
   "cell_type": "code",
   "execution_count": 31,
   "metadata": {},
   "outputs": [],
   "source": [
    "from torch.utils.data import Dataset, DataLoader\n",
    "import torch\n",
    "\n",
    "# Define a custom PyTorch dataset class\n",
    "class TextDataset(Dataset):\n",
    "    def __init__(self, data):\n",
    "        self.data = data\n",
    "\n",
    "    def __len__(self):\n",
    "        return len(self.data)\n",
    "\n",
    "    def __getitem__(self, idx):\n",
    "        return self.data[idx]\n",
    "\n",
    "def text_processing_pipeline(text):\n",
    "    # Preprocess the text\n",
    "    tokens = preprocess_sentences(text)\n",
    "    \n",
    "    # Encode the preprocessed sentences\n",
    "    encoded_sentences, vectorizer = encode_sentences(tokens)\n",
    "    \n",
    "    # Create a PyTorch dataset\n",
    "    dataset = TextDataset(encoded_sentences)\n",
    "    \n",
    "    # Create a dataloader\n",
    "    dataloader = DataLoader(dataset, batch_size=2, shuffle=True)\n",
    "    \n",
    "    return dataloader, vectorizer\n"
   ]
  },
  {
   "cell_type": "code",
   "execution_count": 32,
   "metadata": {},
   "outputs": [
    {
     "name": "stdout",
     "output_type": "stream",
     "text": [
      "Preprocessed sentences: ['first text data .', 'anoth one .']\n",
      "tensor([0, 1, 1, 0, 1])\n"
     ]
    }
   ],
   "source": [
    "text_data = \"This is the first text data. And here is another one.\"\n",
    "sentences = extract_sentences(text_data)\n",
    "dataloader, vectorizer = text_processing_pipeline(sentences)\n",
    "print(next(iter(dataloader))[0, :10])"
   ]
  },
  {
   "cell_type": "code",
   "execution_count": 29,
   "metadata": {},
   "outputs": [
    {
     "data": {
      "text/plain": [
       "['This is the first text data.', 'And here is another one.']"
      ]
     },
     "execution_count": 29,
     "metadata": {},
     "output_type": "execute_result"
    }
   ],
   "source": []
  },
  {
   "cell_type": "code",
   "execution_count": null,
   "metadata": {},
   "outputs": [],
   "source": []
  }
 ],
 "metadata": {
  "kernelspec": {
   "display_name": "DM_ENV",
   "language": "python",
   "name": "python3"
  },
  "language_info": {
   "codemirror_mode": {
    "name": "ipython",
    "version": 3
   },
   "file_extension": ".py",
   "mimetype": "text/x-python",
   "name": "python",
   "nbconvert_exporter": "python",
   "pygments_lexer": "ipython3",
   "version": "3.11.5"
  }
 },
 "nbformat": 4,
 "nbformat_minor": 2
}
